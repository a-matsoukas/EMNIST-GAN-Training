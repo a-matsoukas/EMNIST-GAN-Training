{
 "cells": [
  {
   "cell_type": "code",
   "execution_count": 8,
   "metadata": {},
   "outputs": [],
   "source": [
    "import numpy as np\n",
    "import matplotlib.pyplot as plt\n",
    "from basic_gan_trainer import BasicGANTrainer\n",
    "from helper_functions import (save_network_data, recover_network_data, \n",
    "    load_disc_train_data, load_disc_test_data, generator_input, plot_image, \n",
    "    plot_value_functions)\n",
    "\n",
    "trainer = BasicGANTrainer()"
   ]
  },
  {
   "cell_type": "code",
   "execution_count": 21,
   "metadata": {},
   "outputs": [],
   "source": [
    "# recover_network_data('temp_info.npz', trainer)\n",
    "# save_network_data('temp_info.npz', trainer)"
   ]
  },
  {
   "cell_type": "code",
   "execution_count": 10,
   "metadata": {},
   "outputs": [],
   "source": [
    "disc_train_data = load_disc_train_data(5)\n",
    "disc_test_data = load_disc_test_data(5)\n",
    "n_train_samples = disc_train_data.shape[0]\n",
    "n_test_samples = disc_test_data.shape[0]"
   ]
  },
  {
   "cell_type": "code",
   "execution_count": 11,
   "metadata": {},
   "outputs": [],
   "source": [
    "batch_size = 64\n",
    "num_batches = int(n_train_samples / batch_size)\n",
    "num_epochs = 1"
   ]
  },
  {
   "cell_type": "code",
   "execution_count": 12,
   "metadata": {},
   "outputs": [
    {
     "data": {
      "text/plain": [
       "array([[0.00045099]])"
      ]
     },
     "execution_count": 12,
     "metadata": {},
     "output_type": "execute_result"
    }
   ],
   "source": [
    "trainer.disc_forward_pass(trainer.gen_forward_pass(generator_input()))"
   ]
  },
  {
   "cell_type": "code",
   "execution_count": 13,
   "metadata": {},
   "outputs": [
    {
     "data": {
      "text/plain": [
       "array([[0.96976216]])"
      ]
     },
     "execution_count": 13,
     "metadata": {},
     "output_type": "execute_result"
    }
   ],
   "source": [
    "trainer.disc_forward_pass(disc_train_data[2][np.newaxis].T)"
   ]
  },
  {
   "cell_type": "code",
   "execution_count": 22,
   "metadata": {},
   "outputs": [
    {
     "name": "stdout",
     "output_type": "stream",
     "text": [
      "Completed Epoch 1.\n",
      "Completed Epoch 2.\n",
      "Completed Epoch 3.\n",
      "Completed Epoch 4.\n",
      "Completed Epoch 5.\n",
      "Completed Epoch 6.\n",
      "Completed Epoch 7.\n"
     ]
    }
   ],
   "source": [
    "for current_epoch in range(7):    \n",
    "    for batch in range(num_batches):\n",
    "        for train_example in range(0 + batch * batch_size, batch_size + batch * batch_size):\n",
    "            trainer.disc_forward_pass(disc_train_data[train_example][np.newaxis].T)\n",
    "            trainer.add_to_disc_value(1)\n",
    "            trainer.calc_disc_grad(1, batch_size)\n",
    "\n",
    "            trainer.disc_forward_pass(trainer.gen_forward_pass(generator_input()))\n",
    "            trainer.add_to_disc_value(0)\n",
    "            trainer.calc_disc_grad(0, batch_size)\n",
    "\n",
    "        trainer.update_disc_value_array(batch_size)\n",
    "        trainer.update_Thetas()\n",
    "\n",
    "        for train_example in range(n_train_samples + batch * batch_size, n_train_samples + batch_size + batch * batch_size):\n",
    "            trainer.disc_forward_pass(trainer.gen_forward_pass(generator_input()))\n",
    "            trainer.add_to_gen_value()\n",
    "            trainer.calc_gen_grad(batch_size)\n",
    "\n",
    "        trainer.update_gen_value_array(batch_size)    \n",
    "        trainer.update_Phis()\n",
    "\n",
    "    print(\"Completed Epoch {}.\".format(current_epoch + 1))\n"
   ]
  },
  {
   "cell_type": "code",
   "execution_count": 23,
   "metadata": {},
   "outputs": [
    {
     "data": {
      "text/plain": [
       "array([[0.0001]])"
      ]
     },
     "execution_count": 23,
     "metadata": {},
     "output_type": "execute_result"
    }
   ],
   "source": [
    "trainer.disc_forward_pass(trainer.gen_forward_pass(generator_input()))"
   ]
  },
  {
   "cell_type": "code",
   "execution_count": 24,
   "metadata": {},
   "outputs": [
    {
     "data": {
      "text/plain": [
       "array([[0.9999]])"
      ]
     },
     "execution_count": 24,
     "metadata": {},
     "output_type": "execute_result"
    }
   ],
   "source": [
    "trainer.disc_forward_pass(disc_test_data[2][np.newaxis].T)"
   ]
  },
  {
   "cell_type": "code",
   "execution_count": 25,
   "metadata": {},
   "outputs": [
    {
     "data": {
      "image/png": "[encoded data removed]",
      "text/plain": [
       "<Figure size 432x288 with 1 Axes>"
      ]
     },
     "metadata": {
      "needs_background": "light"
     },
     "output_type": "display_data"
    }
   ],
   "source": [
    "plot_image(trainer.gen_forward_pass(generator_input()))"
   ]
  },
  {
   "cell_type": "code",
   "execution_count": 26,
   "metadata": {},
   "outputs": [
    {
     "data": {
      "image/png": "[encoded data removed]",
      "text/plain": [
       "<Figure size 432x288 with 2 Axes>"
      ]
     },
     "metadata": {
      "needs_background": "light"
     },
     "output_type": "display_data"
    }
   ],
   "source": [
    "plot_value_functions(trainer)"
   ]
  },
  {
   "cell_type": "code",
   "execution_count": 19,
   "metadata": {},
   "outputs": [
    {
     "data": {
      "text/plain": [
       "24000"
      ]
     },
     "execution_count": 19,
     "metadata": {},
     "output_type": "execute_result"
    }
   ],
   "source": [
    "n_train_samples"
   ]
  }
 ],
 "metadata": {
  "interpreter": {
   "hash": "3103559be880f039333555b3000533a2998248a0365b8afb181cc25684dcb841"
  },
  "kernelspec": {
   "display_name": "Python 3.9.9 64-bit (windows store)",
   "language": "python",
   "name": "python3"
  },
  "language_info": {
   "codemirror_mode": {
    "name": "ipython",
    "version": 3
   },
   "file_extension": ".py",
   "mimetype": "text/x-python",
   "name": "python",
   "nbconvert_exporter": "python",
   "pygments_lexer": "ipython3",
   "version": "3.9.9"
  },
  "orig_nbformat": 4
 },
 "nbformat": 4,
 "nbformat_minor": 2
}
